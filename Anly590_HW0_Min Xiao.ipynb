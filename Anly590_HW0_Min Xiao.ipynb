{
 "cells": [
  {
   "cell_type": "markdown",
   "metadata": {},
   "source": [
    "\n",
    "### 1\n",
    "\n",
    "Regularization. Using the accompanying Hitters dataset, we will explore regression models to predict a player's Salary from other variables. You can use any programming languages or frameworks that you wish.\n",
    "\n",
    "https://gist.github.com/keeganhines/59974f1ebef97bbaa44fb19143f90bad (Links to an external site.)Links to an external site.\n",
    "\n",
    " \n",
    "\n",
    "1.1\n",
    "Use LASSO regression to predict Salary from the other numeric predictors (you should omit the categorical predictors). Create a visualization of the coefficient trajectories. Comment on which are the final three predictors that remain in the model. Use cross-validation to find the optimal value of the regularization penality. How many predictors are left in that model?\n",
    "\n",
    "1.2 Repeat with Ridge Regression. Visualize coeffecient trajectories. Use cross-validation to find the optimal value of the regularization penalty.\n",
    "\n"
   ]
  },
  {
   "cell_type": "code",
   "execution_count": 1,
   "metadata": {
    "collapsed": true
   },
   "outputs": [],
   "source": [
    "%matplotlib inline\n",
    "\n",
    "import pandas as pd\n",
    "import numpy as np\n",
    "import matplotlib.pyplot as plt\n",
    "\n",
    "from sklearn.preprocessing import scale \n",
    "from sklearn.model_selection import train_test_split\n",
    "from sklearn.linear_model import Ridge, RidgeCV, Lasso, LassoCV\n",
    "from sklearn.metrics import mean_squared_error"
   ]
  },
  {
   "cell_type": "code",
   "execution_count": 2,
   "metadata": {
    "collapsed": false
   },
   "outputs": [],
   "source": [
    "dt=pd.read_csv(\"hitters.csv\")"
   ]
  },
  {
   "cell_type": "code",
   "execution_count": 3,
   "metadata": {
    "collapsed": false
   },
   "outputs": [
    {
     "data": {
      "text/plain": [
       "Unnamed: 0     object\n",
       "AtBat           int64\n",
       "Hits            int64\n",
       "HmRun           int64\n",
       "Runs            int64\n",
       "RBI             int64\n",
       "Walks           int64\n",
       "Years           int64\n",
       "CAtBat          int64\n",
       "CHits           int64\n",
       "CHmRun          int64\n",
       "CRuns           int64\n",
       "CRBI            int64\n",
       "CWalks          int64\n",
       "League         object\n",
       "Division       object\n",
       "PutOuts         int64\n",
       "Assists         int64\n",
       "Errors          int64\n",
       "Salary        float64\n",
       "NewLeague      object\n",
       "dtype: object"
      ]
     },
     "execution_count": 3,
     "metadata": {},
     "output_type": "execute_result"
    }
   ],
   "source": [
    "dt.dtypes"
   ]
  },
  {
   "cell_type": "code",
   "execution_count": 4,
   "metadata": {
    "collapsed": false
   },
   "outputs": [],
   "source": [
    "#remove categorical variable\n",
    "dt=dt[np.isfinite(dt['Salary'])]\n",
    "# remove the category variable\n",
    "X = dt.drop([\"Unnamed: 0\",\"Salary\",\"League\",\"Division\",\"NewLeague\"],axis=1)\n",
    "# target\n",
    "y=dt[\"Salary\"]"
   ]
  },
  {
   "cell_type": "markdown",
   "metadata": {},
   "source": [
    "### simple regressioin"
   ]
  },
  {
   "cell_type": "code",
   "execution_count": 5,
   "metadata": {
    "collapsed": false
   },
   "outputs": [
    {
     "name": "stdout",
     "output_type": "stream",
     "text": [
      "                            OLS Regression Results                            \n",
      "==============================================================================\n",
      "Dep. Variable:                 Salary   R-squared:                       0.803\n",
      "Model:                            OLS   Adj. R-squared:                  0.790\n",
      "Method:                 Least Squares   F-statistic:                     62.87\n",
      "Date:                Tue, 18 Sep 2018   Prob (F-statistic):           1.90e-77\n",
      "Time:                        22:37:33   Log-Likelihood:                -1882.6\n",
      "No. Observations:                 263   AIC:                             3797.\n",
      "Df Residuals:                     247   BIC:                             3854.\n",
      "Df Model:                          16                                         \n",
      "Covariance Type:            nonrobust                                         \n",
      "==============================================================================\n",
      "                 coef    std err          t      P>|t|      [0.025      0.975]\n",
      "------------------------------------------------------------------------------\n",
      "AtBat         -1.8264      0.586     -3.114      0.002      -2.982      -0.671\n",
      "Hits           7.3750      2.389      3.087      0.002       2.669      12.081\n",
      "HmRun          2.1269      6.252      0.340      0.734     -10.187      14.441\n",
      "Runs          -2.2929      3.013     -0.761      0.447      -8.228       3.643\n",
      "RBI           -0.2308      2.613     -0.088      0.930      -5.378       4.917\n",
      "Walks          6.2224      1.844      3.374      0.001       2.590       9.855\n",
      "Years          8.3732     10.137      0.826      0.410     -11.592      28.339\n",
      "CAtBat        -0.1997      0.136     -1.467      0.144      -0.468       0.068\n",
      "CHits          0.0929      0.680      0.137      0.891      -1.247       1.433\n",
      "CHmRun        -0.2362      1.640     -0.144      0.886      -3.466       2.994\n",
      "CRuns          1.5977      0.754      2.120      0.035       0.114       3.082\n",
      "CRBI           0.7754      0.702      1.105      0.270      -0.607       2.157\n",
      "CWalks        -0.7685      0.333     -2.309      0.022      -1.424      -0.113\n",
      "PutOuts        0.2995      0.078      3.818      0.000       0.145       0.454\n",
      "Assists        0.3215      0.221      1.458      0.146      -0.113       0.756\n",
      "Errors        -1.4153      4.324     -0.327      0.744      -9.932       7.101\n",
      "==============================================================================\n",
      "Omnibus:                      104.098   Durbin-Watson:                   2.007\n",
      "Prob(Omnibus):                  0.000   Jarque-Bera (JB):              718.766\n",
      "Skew:                           1.410   Prob(JB):                    8.35e-157\n",
      "Kurtosis:                      10.592   Cond. No.                     1.92e+03\n",
      "==============================================================================\n",
      "\n",
      "Warnings:\n",
      "[1] Standard Errors assume that the covariance matrix of the errors is correctly specified.\n",
      "[2] The condition number is large, 1.92e+03. This might indicate that there are\n",
      "strong multicollinearity or other numerical problems.\n"
     ]
    }
   ],
   "source": [
    "#build the model with sm.model\n",
    "import statsmodels.api as sm\n",
    "model = sm.OLS(y, X)\n",
    "results = model.fit()\n",
    "# Statsmodels gives R-like statistical output\n",
    "print(results.summary())"
   ]
  },
  {
   "cell_type": "markdown",
   "metadata": {},
   "source": [
    "### Ridge and Lasso Regression"
   ]
  },
  {
   "cell_type": "code",
   "execution_count": 6,
   "metadata": {
    "collapsed": false
   },
   "outputs": [],
   "source": [
    "from sklearn import linear_model\n",
    "#alphas: a series of values\n",
    "alphas = 10**np.linspace(10,-2,100)*0.5\n",
    "\n"
   ]
  },
  {
   "cell_type": "code",
   "execution_count": 7,
   "metadata": {
    "collapsed": true
   },
   "outputs": [],
   "source": [
    "# Split data into training and test sets\n",
    "X_train, X_test , y_train, y_test = train_test_split(X, y, test_size=0.5, random_state=1)\n"
   ]
  },
  {
   "cell_type": "markdown",
   "metadata": {},
   "source": [
    "### 1.1 Lasso"
   ]
  },
  {
   "cell_type": "markdown",
   "metadata": {},
   "source": [
    "The 3 features left are PutOuts, RBI, CRBI if we set the alpha to be a large value.  \n",
    "The optimal alpha value is 2.24 and 6 features left for the optimal model."
   ]
  },
  {
   "cell_type": "code",
   "execution_count": 8,
   "metadata": {
    "collapsed": false
   },
   "outputs": [
    {
     "name": "stdout",
     "output_type": "stream",
     "text": [
      "optimal alpha is 2.24102067695\n"
     ]
    },
    {
     "data": {
      "text/plain": [
       "AtBat      0.000000\n",
       "Hits       0.000000\n",
       "HmRun      0.000000\n",
       "Runs       0.000000\n",
       "RBI        0.516704\n",
       "Walks      0.000000\n",
       "Years      0.000000\n",
       "CAtBat     0.000000\n",
       "CHits      0.000000\n",
       "CHmRun     0.000000\n",
       "CRuns      0.000000\n",
       "CRBI       0.208457\n",
       "CWalks     0.000000\n",
       "PutOuts    0.021337\n",
       "Assists    0.000000\n",
       "Errors     0.000000\n",
       "dtype: float64"
      ]
     },
     "execution_count": 8,
     "metadata": {},
     "output_type": "execute_result"
    },
    {
     "data": {
      "image/png": "[encoded data removed]",
      "text/plain": [
       "<matplotlib.figure.Figure at 0x106ff31d0>"
      ]
     },
     "metadata": {},
     "output_type": "display_data"
    }
   ],
   "source": [
    "import random\n",
    "random.seed(9001)\n",
    "lasso = Lasso(max_iter = 10000, normalize = True)\n",
    "coefs = []\n",
    "\n",
    "for a in alphas:\n",
    "    lasso.set_params(alpha=a)\n",
    "    lasso.fit(scale(X_train), y_train)\n",
    "    coefs.append(lasso.coef_)\n",
    "    \n",
    "ax = plt.gca()\n",
    "ax.plot(alphas*2, coefs)\n",
    "ax.set_xscale('log')\n",
    "plt.axis('tight')\n",
    "plt.xlabel('alpha')\n",
    "plt.ylabel('weights')\n",
    "\n",
    "lassocv = LassoCV(alphas = None, cv = 10, max_iter = 100000, normalize = True)\n",
    "lassocv.fit(X_train, y_train)\n",
    "print(\"optimal alpha is \"+str(lassocv.alpha_))\n",
    "#lasso.set_params to select the 3 features left\n",
    "lasso.set_params(alpha=17)\n",
    "lasso.fit(X_train, y_train)\n",
    "mean_squared_error(y_test, lasso.predict(X_test))\n",
    "\n",
    "# Some of the coefficients are now reduced to exactly zero.\n",
    "pd.Series(lasso.coef_, index=X.columns)"
   ]
  },
  {
   "cell_type": "markdown",
   "metadata": {},
   "source": [
    "### 1.2 ridge   \n",
    "the optimal value of alpha is 0.57"
   ]
  },
  {
   "cell_type": "code",
   "execution_count": 9,
   "metadata": {
    "collapsed": false
   },
   "outputs": [
    {
     "data": {
      "text/plain": [
       "<matplotlib.text.Text at 0x10d7255f8>"
      ]
     },
     "execution_count": 9,
     "metadata": {},
     "output_type": "execute_result"
    },
    {
     "data": {
      "image/png": "[encoded data removed]",
      "text/plain": [
       "<matplotlib.figure.Figure at 0x10d26de48>"
      ]
     },
     "metadata": {},
     "output_type": "display_data"
    }
   ],
   "source": [
    "ridge = Ridge(normalize = True)\n",
    "coefs = []\n",
    "\n",
    "for a in alphas:\n",
    "    ridge.set_params(alpha = a)\n",
    "    ridge.fit(X, y)\n",
    "    coefs.append(ridge.coef_)\n",
    "    \n",
    "np.shape(coefs)\n",
    "ax = plt.gca()\n",
    "ax.plot(alphas, coefs)\n",
    "ax.set_xscale('log')\n",
    "plt.axis('tight')\n",
    "plt.xlabel('alpha')\n",
    "plt.ylabel('weights')"
   ]
  },
  {
   "cell_type": "code",
   "execution_count": 10,
   "metadata": {
    "collapsed": false
   },
   "outputs": [
    {
     "name": "stdout",
     "output_type": "stream",
     "text": [
      "AtBat      0.046181\n",
      "Hits       0.945478\n",
      "HmRun      0.093945\n",
      "Runs       1.128396\n",
      "RBI        0.928647\n",
      "Walks      1.769113\n",
      "Years      0.774010\n",
      "CAtBat     0.011170\n",
      "CHits      0.061145\n",
      "CHmRun     0.417670\n",
      "CRuns      0.123833\n",
      "CRBI       0.128025\n",
      "CWalks     0.047186\n",
      "PutOuts    0.183886\n",
      "Assists    0.038948\n",
      "Errors    -1.512571\n",
      "dtype: float64\n",
      "the optimal value of alpha is 0.574878497699\n"
     ]
    }
   ],
   "source": [
    "ridgecv = RidgeCV(alphas = alphas, scoring = 'neg_mean_squared_error', normalize = True)\n",
    "ridgecv.fit(X_train, y_train)\n",
    "ridgecv.alpha_\n",
    "\n",
    "ridge4 = Ridge(alpha = ridgecv.alpha_, normalize = True)\n",
    "ridge4.fit(X_train, y_train)\n",
    "mean_squared_error(y_test, ridge4.predict(X_test))\n",
    "ridge4.fit(X, y)\n",
    "print(pd.Series(ridge4.coef_, index = X.columns))\n",
    "\n",
    "print(\"the optimal value of alpha is \"+str(ridgecv.alpha_))"
   ]
  },
  {
   "cell_type": "markdown",
   "metadata": {},
   "source": [
    "### 2\n",
    "Short Answer. Explain in your own words the bias-variance tradeoff. What role does regularization play in this tradeoff? Make reference to your findings in number (1) to describe models of high/low bias and variance. "
   ]
  },
  {
   "cell_type": "markdown",
   "metadata": {},
   "source": [
    "1.Bias is the difference between values from the model and the correct value. Variance is the generality of the model for new dataset. Model with high variance can fit the training data very well but fail at the generality of testing data. For a machine learning model, the error MSE can be decomposed to variance and bias. When underfitting, the variance is low but bias is high. When overfitting, the bias is low but the variance is high. This is called tradefoff. \n",
    "\n",
    "2.Regularization is used to reduce the high variance so that we can control overfitting. In the models above, when using regulariztion on the linear model, it pushes all the parameters to close or equal to zeros. It can reduce the overfitting, thus having a lower variance but could be at the cost of relatively higher bias."
   ]
  }
 ],
 "metadata": {
  "kernelspec": {
   "display_name": "Python 3",
   "language": "python",
   "name": "python3"
  },
  "language_info": {
   "codemirror_mode": {
    "name": "ipython",
    "version": 3
   },
   "file_extension": ".py",
   "mimetype": "text/x-python",
   "name": "python",
   "nbconvert_exporter": "python",
   "pygments_lexer": "ipython3",
   "version": "3.6.0"
  }
 },
 "nbformat": 4,
 "nbformat_minor": 0
}
