{
 "cells": [
  {
   "cell_type": "markdown",
   "metadata": {},
   "source": [
    "## Text Classification\n",
    "While images contain local spatial correlations and structure, many other datasets\n",
    "contain temporal correlations. Examples include time series and discrete se-\n",
    "quences such as text. In this problem, we will tackle the task of text classi\f",
    "ca-\n",
    "tion in the context of cybersecurity.\n",
    "\n",
    "**Background**:\n",
    "\n",
    "When malware infects a host computer, it often needs to\n",
    "reach out to an outside server for further instructions or to download additional\n",
    "payloads. This outside server is called a Command-and-Control server (C2).\n",
    "\n",
    "The malware needs to send a specific communication to the C2 server, thus the\n",
    "C2 server needs to have a registered IP address or associated web domain so\n",
    "that it can be reached. Therefore, being able to identify web domains that are\n",
    "likely related to malware C2 can be a valuable cyber defense.\n",
    "\n",
    "**Dataset**:\n",
    "\n",
    "Fortunately, security researchers have already identified and logged\n",
    "a large number of malicious URLs. Additionally, we can catalog common \"be-\n",
    "nign\" URLs just from typical web behavior (these would include things like\n",
    "facebook.com and amazon.com). Hence, we have a labeled dataset for text\n",
    "classification which can be downloaded here:\n",
    "\n",
    "\n",
    "https://s3.amazonaws.com/anly-590/url-classification/benign-urls.txt\n",
    "    \n",
    "https://s3.amazonaws.com/anly-590/url-classification/malicious-urls.txt"
   ]
  },
  {
   "cell_type": "markdown",
   "metadata": {},
   "source": [
    "### Loading Package"
   ]
  },
  {
   "cell_type": "code",
   "execution_count": 147,
   "metadata": {},
   "outputs": [],
   "source": [
    "import numpy as np\n",
    "# --- Libraries ---\n",
    "# - Base libs - \n",
    "import os\n",
    "import numpy as np\n",
    "\n",
    "# -Tensorflow-\n",
    "import tensorflow as tf\n",
    "from tensorflow.python.client import device_lib\n",
    "# -Keras libs-\n",
    "from keras.models import Sequential\n",
    "from keras.layers import Dense, Embedding, SimpleRNN, LSTM, GRU\n",
    "from keras.utils import plot_model # pydot, graphviz are dependencies\n",
    "from keras.utils.vis_utils import model_to_dot\n",
    "from keras.callbacks import TensorBoard, ModelCheckpoint\n",
    "\n",
    "\n",
    "# -Plot libs-\n",
    "import matplotlib.pyplot as plt\n",
    "from IPython.display import SVG, display\n",
    "#%matplotlib inline"
   ]
  },
  {
   "cell_type": "code",
   "execution_count": 148,
   "metadata": {},
   "outputs": [],
   "source": [
    "# --- Set base path ---\n",
    "cwd = os.getcwd()"
   ]
  },
  {
   "cell_type": "markdown",
   "metadata": {},
   "source": [
    "### data Process"
   ]
  },
  {
   "cell_type": "code",
   "execution_count": 149,
   "metadata": {},
   "outputs": [],
   "source": [
    "import urllib.request\n",
    "myurl= \"https://s3.amazonaws.com/anly-590/url-classification/benign-urls.txt\"\n",
    "with urllib.request.urlopen(myurl) as url:\n",
    "    good_url= url.readlines()"
   ]
  },
  {
   "cell_type": "code",
   "execution_count": 150,
   "metadata": {},
   "outputs": [],
   "source": [
    "import urllib.request\n",
    "myurl= \"https://s3.amazonaws.com/anly-590/url-classification/malicious-urls.txt\"\n",
    "with urllib.request.urlopen(myurl) as url:\n",
    "    bad_url= url.readlines()\n",
    "    "
   ]
  },
  {
   "cell_type": "markdown",
   "metadata": {},
   "source": [
    "- Python 3.x makes a clear distinction between the types:\n",
    "\n",
    "- str = '...' literals = a sequence of Unicode characters (UTF-16 or UTF-32, depending on how Python was compiled)\n",
    "\n",
    "- bytes = b'...' literals = a sequence of octets (integers between 0 and 255)\n"
   ]
  },
  {
   "cell_type": "code",
   "execution_count": 151,
   "metadata": {},
   "outputs": [],
   "source": [
    "good_url_=[]\n",
    "for i in good_url:\n",
    "    if i[0]==35:\n",
    "        next\n",
    "    else:\n",
    "        good_url_.append(list(i))     "
   ]
  },
  {
   "cell_type": "code",
   "execution_count": 152,
   "metadata": {},
   "outputs": [],
   "source": [
    "bad_url_=[]\n",
    "for i in bad_url:\n",
    "    if i[0]==35:\n",
    "        next\n",
    "    else:\n",
    "        bad_url_.append(list(i))"
   ]
  },
  {
   "cell_type": "code",
   "execution_count": 153,
   "metadata": {},
   "outputs": [],
   "source": [
    "#preprocess data\n",
    "all_url=good_url_+bad_url_\n",
    "all_url_labels=[0 for i in range(len(good_url_))]+[1 for i in range(len(bad_url_))]\n",
    "\n",
    "#split train and test data\n",
    "import random\n",
    "num_all_url=len(all_url)\n",
    "num_train=np.int(np.floor(num_all_url*0.6))\n",
    "index_train=random.sample(range(num_all_url),num_train)\n",
    "index_test=[i for i in range(num_all_url) if i not in index_train]"
   ]
  },
  {
   "cell_type": "code",
   "execution_count": 154,
   "metadata": {},
   "outputs": [],
   "source": [
    "max_len=0\n",
    "for i in all_url:\n",
    "    if len(i)>max_len:\n",
    "        max_len=len(i)"
   ]
  },
  {
   "cell_type": "code",
   "execution_count": 156,
   "metadata": {},
   "outputs": [],
   "source": [
    "input_train=np.array(all_url)[index_train]\n",
    "input_test=np.array(all_url)[index_test]\n",
    "\n",
    "y_train=np.array(all_url_labels)[index_train]\n",
    "y_test=np.array(all_url_labels)[index_test]"
   ]
  },
  {
   "cell_type": "code",
   "execution_count": 157,
   "metadata": {},
   "outputs": [
    {
     "name": "stdout",
     "output_type": "stream",
     "text": [
      "...Loading Data...\n",
      "40386 train sequences\n",
      "26925 test sequences\n",
      "Pad sequence (sample x time)\n",
      "input_train shape: (40386, 87)\n",
      "input_test shape: (26925, 87)\n"
     ]
    }
   ],
   "source": [
    "\n",
    "\n",
    "from keras.preprocessing import sequence\n",
    "\n",
    "# Max number of words\n",
    "max_features = 10000\n",
    "\n",
    "# Max length of sentence\n",
    "maxlen = 87 \n",
    "\n",
    "# Max number of comments read in at at ime\n",
    "batch_size = 64\n",
    "\n",
    "print('...Loading Data...')\n",
    "\n",
    "print(len(input_train), 'train sequences')\n",
    "print(len(input_test), 'test sequences')\n",
    "\n",
    "print('Pad sequence (sample x time)')\n",
    "input_train = sequence.pad_sequences(input_train, maxlen = maxlen)\n",
    "input_test = sequence.pad_sequences(input_test, maxlen=maxlen)\n",
    "print('input_train shape:', input_train.shape)\n",
    "print('input_test shape:', input_test.shape)"
   ]
  },
  {
   "cell_type": "markdown",
   "metadata": {},
   "source": [
    "### RNN for text classification"
   ]
  },
  {
   "cell_type": "code",
   "execution_count": 167,
   "metadata": {},
   "outputs": [],
   "source": [
    "# --- Training model: Embedding + RNN ---\n",
    "model = Sequential()\n",
    "model.add(Embedding(max_features, 64))\n",
    "#model.add(SimpleRNN(32))\n",
    "#model.add(GRU(32))\n",
    "model.add(LSTM(32))\n",
    "model.add(Dense(1, activation ='sigmoid'))\n",
    "\n",
    "# --- Visualizing the model ---\n",
    "#show_model_now = True\n",
    "#if (show_model_now):\n",
    " #   display(SVG(model_to_dot(model).create(prog='dot', format='svg')))\n",
    "#else:\n",
    "    # saves model in directory\n",
    "#    plot_model(model,\n",
    " #              to_file=os.path.join(cwd,'model.png'))"
   ]
  },
  {
   "cell_type": "code",
   "execution_count": 168,
   "metadata": {},
   "outputs": [
    {
     "name": "stdout",
     "output_type": "stream",
     "text": [
      "Train on 32308 samples, validate on 8078 samples\n",
      "Epoch 1/3\n",
      "32308/32308 [==============================] - 82s - loss: 0.0763 - acc: 0.9787 - val_loss: 0.0469 - val_acc: 0.9817\n",
      "Epoch 2/3\n",
      "32308/32308 [==============================] - 78s - loss: 0.0337 - acc: 0.9850 - val_loss: 0.0271 - val_acc: 0.9880\n",
      "Epoch 3/3\n",
      "32308/32308 [==============================] - 77s - loss: 0.0277 - acc: 0.9870 - val_loss: 0.0251 - val_acc: 0.9901\n"
     ]
    }
   ],
   "source": [
    "# --- Locations to save model ---\n",
    "save_path_weights = os.path.join(cwd,'rnn_weights.h5')\n",
    "save_path_model = os.path.join(cwd,'rnn_model.h5')\n",
    "\n",
    "# --- Compile Model ---\n",
    "#Compile model\n",
    "model.compile(optimizer = 'rmsprop',\n",
    "             loss = 'binary_crossentropy',\n",
    "             metrics=['acc'])\n",
    "\n",
    "# If we want to checkpoint our model so we don't rerun it\n",
    "checkpointer = ModelCheckpoint(filepath=save_path_weights, \n",
    "                               verbose=1, save_best_only=True)\n",
    "\n",
    "\n",
    "# Verbose=0 -> to avoid jupyter notebook freezing\n",
    "history = model.fit(input_train, y_train, \n",
    "                    epochs = 3, batch_size = 64, \n",
    "                    validation_split = 0.2,verbose=1)"
   ]
  },
  {
   "cell_type": "code",
   "execution_count": 169,
   "metadata": {},
   "outputs": [
    {
     "data": {
      "image/png": "[encoded data removed]",
      "text/plain": [
       "<matplotlib.figure.Figure at 0x12ca84fd0>"
      ]
     },
     "metadata": {},
     "output_type": "display_data"
    },
    {
     "data": {
      "image/png": "[encoded data removed]",
      "text/plain": [
       "<matplotlib.figure.Figure at 0x12cadf160>"
      ]
     },
     "metadata": {},
     "output_type": "display_data"
    }
   ],
   "source": [
    "# --- Plotting performance ---\n",
    "acc = history.history['acc']\n",
    "val_acc = history.history['val_acc']\n",
    "loss = history.history['loss']\n",
    "val_loss = history.history['val_loss']\n",
    "\n",
    "epochs = range(1, len(acc) + 1)\n",
    "\n",
    "plt.plot(epochs, acc, 'bo', label = 'Training acc')\n",
    "plt.plot(epochs, val_acc, 'b', label = 'Validation acc')\n",
    "plt.title('Training and validation accuracy')\n",
    "plt.legend()\n",
    "\n",
    "plt.figure()\n",
    "\n",
    "plt.plot(epochs, loss, 'bo', label = 'Training Loss')\n",
    "plt.plot(epochs, val_loss, 'b', label = 'Validation Loss')\n",
    "plt.title('Training and validation Loss')\n",
    "plt.legend()\n",
    "\n",
    "plt.show()"
   ]
  },
  {
   "cell_type": "code",
   "execution_count": 161,
   "metadata": {},
   "outputs": [
    {
     "name": "stdout",
     "output_type": "stream",
     "text": [
      "Test loss: 0.0276537539718\n",
      "Test accuracy: 0.98681522749\n"
     ]
    }
   ],
   "source": [
    "score = model.evaluate(input_test , y_test, verbose=0)\n",
    "print('Test loss:', score[0])\n",
    "print('Test accuracy:', score[1])"
   ]
  },
  {
   "cell_type": "markdown",
   "metadata": {},
   "source": [
    "### CNN for text classification"
   ]
  },
  {
   "cell_type": "code",
   "execution_count": 143,
   "metadata": {},
   "outputs": [
    {
     "name": "stdout",
     "output_type": "stream",
     "text": [
      "Populating the interactive namespace from numpy and matplotlib\n"
     ]
    },
    {
     "name": "stderr",
     "output_type": "stream",
     "text": [
      "/Library/Frameworks/Python.framework/Versions/3.6/lib/python3.6/site-packages/IPython/core/magics/pylab.py:160: UserWarning: pylab import has clobbered these variables: ['copy']\n",
      "`%matplotlib` prevents importing * from pylab and numpy\n",
      "  \"\\n`%matplotlib` prevents importing * from pylab and numpy\"\n"
     ]
    }
   ],
   "source": [
    "%pylab inline\n",
    "\n",
    "import copy\n",
    "\n",
    "import numpy as np\n",
    "import pandas as pd\n",
    "import matplotlib.pyplot as plt\n",
    "\n",
    "from keras.datasets import mnist, cifar10\n",
    "from keras.models import Sequential\n",
    "from keras.layers.core import Dense, Dropout, Activation, Flatten, Reshape\n",
    "from keras.optimizers import SGD, RMSprop\n",
    "from keras.utils import np_utils\n",
    "from keras.regularizers import l2\n",
    "from keras.layers.convolutional import Conv1D, Conv2D, MaxPooling1D, ZeroPadding2D, AveragePooling2D\n",
    "from keras.callbacks import EarlyStopping\n",
    "from keras.preprocessing.image import ImageDataGenerator\n",
    "from keras.layers.normalization import BatchNormalization\n",
    "\n",
    "from PIL import Image"
   ]
  },
  {
   "cell_type": "code",
   "execution_count": 144,
   "metadata": {},
   "outputs": [],
   "source": [
    "max_features = 255\n",
    "maxlen = 87\n",
    "batch_size = 32"
   ]
  },
  {
   "cell_type": "code",
   "execution_count": 145,
   "metadata": {},
   "outputs": [
    {
     "name": "stdout",
     "output_type": "stream",
     "text": [
      "_________________________________________________________________\n",
      "Layer (type)                 Output Shape              Param #   \n",
      "=================================================================\n",
      "embedding_25 (Embedding)     (None, 87, 64)            16320     \n",
      "_________________________________________________________________\n",
      "conv1d_20 (Conv1D)           (None, 83, 4)             1284      \n",
      "_________________________________________________________________\n",
      "max_pooling1d_12 (MaxPooling (None, 27, 4)             0         \n",
      "_________________________________________________________________\n",
      "conv1d_21 (Conv1D)           (None, 23, 4)             84        \n",
      "_________________________________________________________________\n",
      "max_pooling1d_13 (MaxPooling (None, 7, 4)              0         \n",
      "_________________________________________________________________\n",
      "dropout_9 (Dropout)          (None, 7, 4)              0         \n",
      "_________________________________________________________________\n",
      "conv1d_22 (Conv1D)           (None, 3, 4)              84        \n",
      "_________________________________________________________________\n",
      "flatten_6 (Flatten)          (None, 12)                0         \n",
      "_________________________________________________________________\n",
      "dense_12 (Dense)             (None, 1)                 13        \n",
      "=================================================================\n",
      "Total params: 17,785.0\n",
      "Trainable params: 17,785.0\n",
      "Non-trainable params: 0.0\n",
      "_________________________________________________________________\n"
     ]
    }
   ],
   "source": [
    "# =============================\n",
    "#  Setting up LeNet Architecture\n",
    "# ============================\n",
    "model2 = Sequential()\n",
    "model2.add(Embedding(max_features, 64,input_length=87))\n",
    "model2.add(Conv1D(filters = 4,kernel_size=5, \n",
    "                 activation='relu',  \n",
    "                 padding='valid',input_shape=(87,64,1)))\n",
    "model2.add(MaxPooling1D(pool_size=3))\n",
    "\n",
    "model2.add(Conv1D(filters = 4,kernel_size=5, \n",
    "                 activation='relu',  \n",
    "                 padding='valid'))\n",
    "model2.add(MaxPooling1D(pool_size=3))\n",
    "model2.add(Dropout(0.5))\n",
    "\n",
    "model2.add(Conv1D(filters = 4,kernel_size=5, \n",
    "                 activation='relu',  \n",
    "                 padding='valid'))\n",
    "model2.add(Flatten())\n",
    "#dense layer\n",
    "model2.add(Dense(1, activation ='sigmoid'))\n",
    "\n",
    "model2.summary()"
   ]
  },
  {
   "cell_type": "markdown",
   "metadata": {},
   "source": [
    "model_conv = Sequential()\n",
    "model_conv.add(Embedding(10000, 100, input_length=50))\n",
    "model_conv.add(Dropout(0.2))\n",
    "model_conv.add(Conv1D(64, 5, activation='relu'))\n",
    "model_conv.add(MaxPooling1D(pool_size=4))\n",
    "model_conv.add(LSTM(100))\n",
    "model_conv.add(Dense(1, activation='sigmoid'))\n",
    "model_conv.summary()"
   ]
  },
  {
   "cell_type": "code",
   "execution_count": 146,
   "metadata": {},
   "outputs": [
    {
     "name": "stdout",
     "output_type": "stream",
     "text": [
      "Train on 32308 samples, validate on 8078 samples\n",
      "Epoch 1/3\n",
      "32308/32308 [==============================] - 11s - loss: 0.1297 - acc: 0.9811 - val_loss: 0.0767 - val_acc: 0.9799\n",
      "Epoch 2/3\n",
      "32308/32308 [==============================] - 8s - loss: 0.0755 - acc: 0.9814 - val_loss: 0.0744 - val_acc: 0.9799\n",
      "Epoch 3/3\n",
      "32308/32308 [==============================] - 8s - loss: 0.0726 - acc: 0.9814 - val_loss: 0.0714 - val_acc: 0.9799\n"
     ]
    }
   ],
   "source": [
    "#compile the model and train\n",
    "model2.compile(loss='binary_crossentropy', optimizer='adam',metrics=['accuracy'])\n",
    "\n",
    "# Verbose=0 -> to avoid jupyter notebook freezing\n",
    "history = model2.fit(input_train, y_train, \n",
    "                    epochs = 3, batch_size = 64, \n",
    "                    validation_split = 0.2,verbose=1)"
   ]
  },
  {
   "cell_type": "code",
   "execution_count": 141,
   "metadata": {},
   "outputs": [
    {
     "name": "stdout",
     "output_type": "stream",
     "text": [
      "Test loss: 0.0734445432832\n",
      "Test accuracy: 0.980167130919\n"
     ]
    }
   ],
   "source": [
    "score2 = model2.evaluate(input_test , y_test, verbose=0)\n",
    "print('Test loss:', score2[0])\n",
    "print('Test accuracy:', score2[1])"
   ]
  },
  {
   "cell_type": "markdown",
   "metadata": {},
   "source": [
    "### 3.3 Compare models using ROC curve\n",
    "\n",
    "Here we use the roc curve to compare the models. It shows the RNN has a better performance."
   ]
  },
  {
   "cell_type": "code",
   "execution_count": 170,
   "metadata": {},
   "outputs": [],
   "source": [
    "from sklearn.metrics import roc_curve\n",
    "y_pred_keras_2 = model2.predict(input_test).ravel()\n",
    "fpr_keras_2, tpr_keras_2, thresholds_keras_2 = roc_curve(y_test, y_pred_keras_2)\n",
    "from sklearn.metrics import auc\n",
    "auc_keras_2 = auc(fpr_keras_2, tpr_keras_2)"
   ]
  },
  {
   "cell_type": "code",
   "execution_count": 171,
   "metadata": {},
   "outputs": [],
   "source": [
    "from sklearn.metrics import roc_curve\n",
    "y_pred_keras = model.predict(input_test).ravel()\n",
    "fpr_keras, tpr_keras, thresholds_keras= roc_curve(y_test, y_pred_keras)\n",
    "from sklearn.metrics import auc\n",
    "auc_keras = auc(fpr_keras, tpr_keras)"
   ]
  },
  {
   "cell_type": "code",
   "execution_count": 173,
   "metadata": {},
   "outputs": [
    {
     "data": {
      "image/png": "[encoded data removed]",
      "text/plain": [
       "<matplotlib.figure.Figure at 0x12d1b8668>"
      ]
     },
     "metadata": {},
     "output_type": "display_data"
    }
   ],
   "source": [
    "plt.figure(1)\n",
    "plt.plot([0, 1], [0, 1], 'k--')\n",
    "plt.plot(fpr_keras_2, tpr_keras_2, label='CNN (area = {:.3f})'.format(auc_keras_2))\n",
    "plt.plot(fpr_keras, tpr_keras, label='RNN(LSTM) (area = {:.3f})'.format(auc_keras))\n",
    "\n",
    "plt.xlabel('False positive rate')\n",
    "plt.ylabel('True positive rate')\n",
    "plt.title('ROC curve')\n",
    "plt.legend(loc='best')\n",
    "plt.show()"
   ]
  },
  {
   "cell_type": "code",
   "execution_count": null,
   "metadata": {},
   "outputs": [],
   "source": []
  }
 ],
 "metadata": {
  "kernelspec": {
   "display_name": "Python 3",
   "language": "python",
   "name": "python3"
  },
  "language_info": {
   "codemirror_mode": {
    "name": "ipython",
    "version": 3
   },
   "file_extension": ".py",
   "mimetype": "text/x-python",
   "name": "python",
   "nbconvert_exporter": "python",
   "pygments_lexer": "ipython3",
   "version": "3.6.0"
  }
 },
 "nbformat": 4,
 "nbformat_minor": 2
}
