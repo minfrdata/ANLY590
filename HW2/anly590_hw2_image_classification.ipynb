{
 "cells": [
  {
   "cell_type": "markdown",
   "metadata": {
    "colab_type": "text",
    "id": "y7RvF99XkNUk"
   },
   "source": [
    "### Image classification\n",
    "\n",
    "we will use the fashion mnist data in this part."
   ]
  },
  {
   "cell_type": "code",
   "execution_count": 1,
   "metadata": {
    "colab": {
     "base_uri": "https://localhost:8080/",
     "height": 51
    },
    "colab_type": "code",
    "id": "PqCY2SOFkL4r",
    "outputId": "49afe722-204d-4968-f4b5-889ffa702b4a"
   },
   "outputs": [
    {
     "name": "stdout",
     "output_type": "stream",
     "text": [
      "Populating the interactive namespace from numpy and matplotlib\n"
     ]
    },
    {
     "name": "stderr",
     "output_type": "stream",
     "text": [
      "C:\\Users\\nikhi\\Anaconda3\\lib\\site-packages\\h5py\\__init__.py:34: FutureWarning: Conversion of the second argument of issubdtype from `float` to `np.floating` is deprecated. In future, it will be treated as `np.float64 == np.dtype(float).type`.\n",
      "  from ._conv import register_converters as _register_converters\n",
      "Using TensorFlow backend.\n"
     ]
    }
   ],
   "source": [
    "%pylab inline\n",
    "\n",
    "import copy\n",
    "\n",
    "import numpy as np\n",
    "import pandas as pd\n",
    "import matplotlib.pyplot as plt\n",
    "\n",
    "from keras.datasets import mnist, cifar10\n",
    "from keras.models import Sequential\n",
    "from keras.layers.core import Dense, Dropout, Activation, Flatten, Reshape\n",
    "from keras.optimizers import SGD, RMSprop\n",
    "from keras.utils import np_utils\n",
    "from keras.regularizers import l2\n",
    "from keras.layers.convolutional import Conv2D, MaxPooling2D, ZeroPadding2D, AveragePooling2D\n",
    "from keras.callbacks import EarlyStopping\n",
    "from keras.preprocessing.image import ImageDataGenerator\n",
    "from keras.layers.normalization import BatchNormalization\n",
    "\n",
    "from PIL import Image"
   ]
  },
  {
   "cell_type": "markdown",
   "metadata": {},
   "source": [
    "### Process Data"
   ]
  },
  {
   "cell_type": "code",
   "execution_count": 3,
   "metadata": {
    "colab": {},
    "colab_type": "code",
    "collapsed": true,
    "id": "sPCpoavLkSld"
   },
   "outputs": [],
   "source": [
    "# =============================\n",
    "#  Reshaping data\n",
    "# ============================\n",
    "import tensorflow as tf\n",
    "import keras\n",
    "(X_train, y_train), (X_test, y_test) = keras.datasets.fashion_mnist.load_data()\n",
    "X_train = X_train.reshape(X_train.shape[0], 28, 28,1).astype('float32') / 255\n",
    "X_test = X_test.reshape(X_test.shape[0], 28, 28,1).astype('float32') / 255\n",
    "Y_train = np_utils.to_categorical(y_train, 10)\n",
    "Y_test = np_utils.to_categorical(y_test, 10)\n"
   ]
  },
  {
   "cell_type": "markdown",
   "metadata": {},
   "source": [
    "### Model Structure\n",
    "In this section, we build a deep CNN to classify the fashion mnist image. The model structure is as follow:\n",
    "#1 Convoluntional layer 1:\n",
    "  - 32 filter\n",
    "  - kernel_size=[3,3]\n",
    "  - stride=1\n",
    "  - no padding\n",
    "  - activation function: relu\n",
    "  \n",
    "#2 Convoluntional layer 2:\n",
    "  - 32 filter\n",
    "  - kernel_size=[3,3]\n",
    "  - stride=1\n",
    "  - no padding\n",
    "  - activation function: relu\n",
    " \n",
    "#3 MaxPooling Layer 1: \n",
    "  - pool_size=2\n",
    " \n",
    "#4 dropout\n",
    "\n",
    "#5 Fully connected layer with 64 hidden nodes\n",
    "  - activation function: ReLU\n",
    "\n",
    "#6 Fully connected layer to the output layer\n",
    "  - 10 outputs\n",
    "  - activation function: softmax\n",
    "  "
   ]
  },
  {
   "cell_type": "code",
   "execution_count": 3,
   "metadata": {
    "colab": {},
    "colab_type": "code",
    "id": "sFrQtz4RkaYg"
   },
   "outputs": [
    {
     "name": "stdout",
     "output_type": "stream",
     "text": [
      "_________________________________________________________________\n",
      "Layer (type)                 Output Shape              Param #   \n",
      "=================================================================\n",
      "conv2d_1 (Conv2D)            (None, 26, 26, 32)        320       \n",
      "_________________________________________________________________\n",
      "conv2d_2 (Conv2D)            (None, 24, 24, 32)        9248      \n",
      "_________________________________________________________________\n",
      "max_pooling2d_1 (MaxPooling2 (None, 12, 12, 32)        0         \n",
      "_________________________________________________________________\n",
      "dropout_1 (Dropout)          (None, 12, 12, 32)        0         \n",
      "_________________________________________________________________\n",
      "flatten_1 (Flatten)          (None, 4608)              0         \n",
      "_________________________________________________________________\n",
      "dense_1 (Dense)              (None, 64)                294976    \n",
      "_________________________________________________________________\n",
      "dense_2 (Dense)              (None, 10)                650       \n",
      "=================================================================\n",
      "Total params: 305,194\n",
      "Trainable params: 305,194\n",
      "Non-trainable params: 0\n",
      "_________________________________________________________________\n",
      "None\n"
     ]
    },
    {
     "data": {
      "text/plain": [
       "[<matplotlib.lines.Line2D at 0x274b27a2588>]"
      ]
     },
     "execution_count": 3,
     "metadata": {},
     "output_type": "execute_result"
    },
    {
     "data": {
      "image/png": "[encoded data removed]",
      "text/plain": [
       "<matplotlib.figure.Figure at 0x274afd39278>"
      ]
     },
     "metadata": {},
     "output_type": "display_data"
    }
   ],
   "source": [
    "model = Sequential()\n",
    "model.add(Conv2D(filters = 32,kernel_size=(3, 3), \n",
    "                 activation='relu', strides=(1, 1), \n",
    "                 padding='valid',\n",
    "                 input_shape=(28,28,1)))\n",
    "model.add(Conv2D(filters = 32,kernel_size=(3, 3), \n",
    "                 activation='relu', strides=(1, 1), \n",
    "                 padding='valid'))\n",
    "model.add(MaxPooling2D(pool_size=(2,2)))\n",
    "model.add(Dropout(0.25))\n",
    "model.add(Flatten())\n",
    "model.add(Dense(64, activation='relu'))\n",
    "model.add(Dense(10, activation='softmax'))\n",
    "#model.add(Activation(tf.nn.softmax))\n",
    "print(model.summary())\n",
    "\n",
    "\n",
    "model.compile(loss='categorical_crossentropy',\n",
    "              optimizer='adam',\n",
    "              metrics=['accuracy'])\n",
    "\n",
    "model_training = model.fit(X_train, Y_train,\n",
    "          epochs=15,\n",
    "          batch_size=128,\n",
    "         verbose = 0)\n",
    "\n",
    "plt.plot(model_training.history[\"acc\"])\n",
    "\n"
   ]
  },
  {
   "cell_type": "code",
   "execution_count": 4,
   "metadata": {
    "colab": {},
    "colab_type": "code",
    "id": "IdCJ_gIGkfmP"
   },
   "outputs": [
    {
     "name": "stdout",
     "output_type": "stream",
     "text": [
      "60000/60000 [==============================] - 59s 989us/step\n",
      "10000/10000 [==============================] - 10s 1ms/step\n"
     ]
    },
    {
     "data": {
      "text/plain": [
       "(60000, 28, 28, 1)"
      ]
     },
     "execution_count": 4,
     "metadata": {},
     "output_type": "execute_result"
    }
   ],
   "source": [
    "# =====================\n",
    "#  Evaluating the model\n",
    "# =====================\n",
    "score_train = model.evaluate(X_train, Y_train, verbose=1)\n",
    "score_test = model.evaluate(X_test, Y_test, verbose=1)\n"
   ]
  },
  {
   "cell_type": "code",
   "execution_count": 6,
   "metadata": {},
   "outputs": [
    {
     "name": "stdout",
     "output_type": "stream",
     "text": [
      "loss on the training set:  0.05678995476091901\n",
      "accuracy on the training set:  0.9809666666666667\n",
      "loss on the test set:  0.259400545167923\n",
      "accuracy on the test set:  0.9212\n"
     ]
    }
   ],
   "source": [
    "print(\"loss on the training set: \", score_train[0])\n",
    "print(\"accuracy on the training set: \", score_train[1])\n",
    "\n",
    "print(\"loss on the test set: \", score_test[0])\n",
    "print(\"accuracy on the test set: \", score_test[1])\n"
   ]
  },
  {
   "cell_type": "markdown",
   "metadata": {
    "colab_type": "text",
    "id": "TeRzz3BHkmuD"
   },
   "source": [
    "### Transfer Learning"
   ]
  },
  {
   "cell_type": "code",
   "execution_count": 2,
   "metadata": {
    "colab": {},
    "colab_type": "code",
    "collapsed": true,
    "id": "EWoQVxhvklxD"
   },
   "outputs": [],
   "source": [
    "from keras.applications import VGG16\n",
    "import matplotlib.pyplot as plt\n",
    "from keras.preprocessing.image import ImageDataGenerator, array_to_img, img_to_array, load_img\n",
    "from keras.models import Sequential\n",
    "from keras.layers import Dense, Flatten\n",
    "from keras.optimizers import RMSprop"
   ]
  },
  {
   "cell_type": "code",
   "execution_count": 3,
   "metadata": {
    "collapsed": true
   },
   "outputs": [],
   "source": [
    "import keras\n",
    "(X_train, y_train), (X_test, y_test) = keras.datasets.fashion_mnist.load_data()"
   ]
  },
  {
   "cell_type": "code",
   "execution_count": 4,
   "metadata": {
    "collapsed": true
   },
   "outputs": [],
   "source": [
    "from PIL import Image"
   ]
  },
  {
   "cell_type": "code",
   "execution_count": 5,
   "metadata": {
    "colab": {},
    "colab_type": "code",
    "collapsed": true,
    "id": "1aATl5GYkvym"
   },
   "outputs": [],
   "source": [
    "path_train_data = \"mnist/train/\"\n",
    "X_train_resize=[]\n",
    "basewidth=48\n",
    "baseheight=48\n",
    "for i in range(60000):\n",
    "    img=Image.fromarray(X_train[i,:,:])\n",
    "    img = img.resize((basewidth,baseheight), Image.ANTIALIAS)\n",
    "    #img.save(path_train_data+str(i+1)+\".jpg\")\n",
    "    img_array=np.array(img)\n",
    "    #print(img_array.shape)\n",
    "    X_train_resize.append(img_array)"
   ]
  },
  {
   "cell_type": "code",
   "execution_count": 6,
   "metadata": {
    "collapsed": true
   },
   "outputs": [],
   "source": [
    "path_train_data = \"mnist/test/\"\n",
    "X_test_resize=[]\n",
    "basewidth=48\n",
    "baseheight=48\n",
    "for i in range(10000):\n",
    "    img=Image.fromarray(X_test[i,:,:])\n",
    "    img = img.resize((basewidth,baseheight), Image.ANTIALIAS)\n",
    "    #img.save(path_train_data+str(i+1)+\".jpg\")\n",
    "    img_array=np.array(img)\n",
    "    #print(img_array.shape)\n",
    "    X_test_resize.append(img_array)"
   ]
  },
  {
   "cell_type": "code",
   "execution_count": 7,
   "metadata": {},
   "outputs": [
    {
     "data": {
      "text/plain": [
       "(60000, 48, 48)"
      ]
     },
     "execution_count": 7,
     "metadata": {},
     "output_type": "execute_result"
    }
   ],
   "source": [
    "np.array(X_train_resize).shape"
   ]
  },
  {
   "cell_type": "code",
   "execution_count": 8,
   "metadata": {
    "colab": {},
    "colab_type": "code",
    "collapsed": true,
    "id": "HUQq4k2olFID"
   },
   "outputs": [],
   "source": [
    "X_train=np.repeat(np.array(X_train_resize)[:,:,:,np.newaxis],3,axis=3)/255\n",
    "X_test=np.repeat(np.array(X_test_resize)[:,:,:,np.newaxis],3,axis=3)/255"
   ]
  },
  {
   "cell_type": "code",
   "execution_count": 9,
   "metadata": {},
   "outputs": [
    {
     "data": {
      "text/plain": [
       "(60000, 48, 48, 3)"
      ]
     },
     "execution_count": 9,
     "metadata": {},
     "output_type": "execute_result"
    }
   ],
   "source": [
    "X_train.shape\n"
   ]
  },
  {
   "cell_type": "code",
   "execution_count": 10,
   "metadata": {
    "collapsed": true
   },
   "outputs": [],
   "source": [
    "Y_train = np_utils.to_categorical(y_train, 10)\n",
    "Y_test = np_utils.to_categorical(y_test, 10)"
   ]
  },
  {
   "cell_type": "code",
   "execution_count": 30,
   "metadata": {
    "colab": {},
    "colab_type": "code",
    "id": "jy6Ob_1wlIAA"
   },
   "outputs": [
    {
     "name": "stdout",
     "output_type": "stream",
     "text": [
      "_________________________________________________________________\n",
      "Layer (type)                 Output Shape              Param #   \n",
      "=================================================================\n",
      "vgg16 (Model)                (None, 1, 1, 512)         14714688  \n",
      "_________________________________________________________________\n",
      "flatten_4 (Flatten)          (None, 512)               0         \n",
      "_________________________________________________________________\n",
      "dense_7 (Dense)              (None, 256)               131328    \n",
      "_________________________________________________________________\n",
      "dense_8 (Dense)              (None, 10)                2570      \n",
      "=================================================================\n",
      "Total params: 14,848,586\n",
      "Trainable params: 14,848,586\n",
      "Non-trainable params: 0\n",
      "_________________________________________________________________\n"
     ]
    }
   ],
   "source": [
    "conv_base =VGG16(weights=\"imagenet\",include_top=False,input_shape=(48,48,3))\n",
    "#conv_base=keras.applications.mobilenet.MobileNet(input_shape=(32,32,3),include_top=False, weights='imagenet')\n",
    "model = Sequential()\n",
    "model.add(conv_base)\n",
    "model.add(Flatten())\n",
    "model.add(Dense(256, activation=\"relu\"))\n",
    "model.add(Dense(10, activation=\"softmax\"))\n",
    "model.summary()\n",
    "model.trainable_weights\n",
    "conv_base.trainable = False\n"
   ]
  },
  {
   "cell_type": "code",
   "execution_count": 31,
   "metadata": {
    "colab": {},
    "colab_type": "code",
    "collapsed": true,
    "id": "1wC19QqZlMYH"
   },
   "outputs": [],
   "source": [
    "model.trainable_weights\n",
    "model.compile(loss=\"categorical_crossentropy\", optimizer=RMSprop(1e-4),metrics=[\"acc\"])"
   ]
  },
  {
   "cell_type": "code",
   "execution_count": 16,
   "metadata": {
    "collapsed": true
   },
   "outputs": [],
   "source": [
    "datagen = ImageDataGenerator(\n",
    "    shear_range=0.2,\n",
    "    zoom_range=0.2,\n",
    "    horizontal_flip=False)\n",
    "\n",
    "# compute quantities required for featurewise normalization\n",
    "# (std, mean, and principal components if ZCA whitening is applied)\n",
    "datagen.fit(X_train)\n",
    "\n",
    "\n"
   ]
  },
  {
   "cell_type": "code",
   "execution_count": 32,
   "metadata": {},
   "outputs": [
    {
     "name": "stdout",
     "output_type": "stream",
     "text": [
      "Epoch 1/20\n",
      "200/200 [==============================] - 156s 780ms/step - loss: 1.6931 - acc: 0.5344\n",
      "Epoch 2/20\n",
      "200/200 [==============================] - 155s 775ms/step - loss: 1.0438 - acc: 0.7194\n",
      "Epoch 3/20\n",
      "200/200 [==============================] - 154s 768ms/step - loss: 0.8363 - acc: 0.7395\n",
      "Epoch 4/20\n",
      "200/200 [==============================] - 151s 756ms/step - loss: 0.7461 - acc: 0.7502\n",
      "Epoch 5/20\n",
      "200/200 [==============================] - 151s 757ms/step - loss: 0.7151 - acc: 0.7566\n",
      "Epoch 6/20\n",
      "200/200 [==============================] - 155s 775ms/step - loss: 0.6644 - acc: 0.7728\n",
      "Epoch 7/20\n",
      "200/200 [==============================] - 157s 784ms/step - loss: 0.6467 - acc: 0.7728\n",
      "Epoch 8/20\n",
      "200/200 [==============================] - 158s 792ms/step - loss: 0.6463 - acc: 0.7678\n",
      "Epoch 9/20\n",
      "200/200 [==============================] - 157s 785ms/step - loss: 0.5891 - acc: 0.7920\n",
      "Epoch 10/20\n",
      "200/200 [==============================] - 156s 782ms/step - loss: 0.5886 - acc: 0.7906\n",
      "Epoch 11/20\n",
      "200/200 [==============================] - 157s 786ms/step - loss: 0.5814 - acc: 0.7934\n",
      "Epoch 12/20\n",
      "200/200 [==============================] - 156s 779ms/step - loss: 0.5804 - acc: 0.7939\n",
      "Epoch 13/20\n",
      "200/200 [==============================] - 155s 773ms/step - loss: 0.5630 - acc: 0.7970\n",
      "Epoch 14/20\n",
      "200/200 [==============================] - 158s 792ms/step - loss: 0.5745 - acc: 0.7930\n",
      "Epoch 15/20\n",
      "200/200 [==============================] - 157s 783ms/step - loss: 0.5678 - acc: 0.8000\n",
      "Epoch 16/20\n",
      "200/200 [==============================] - 156s 778ms/step - loss: 0.5376 - acc: 0.8108\n",
      "Epoch 17/20\n",
      "200/200 [==============================] - 154s 771ms/step - loss: 0.5456 - acc: 0.8048\n",
      "Epoch 18/20\n",
      "200/200 [==============================] - 154s 772ms/step - loss: 0.5163 - acc: 0.8208\n",
      "Epoch 19/20\n",
      "200/200 [==============================] - 152s 760ms/step - loss: 0.5236 - acc: 0.8163\n",
      "Epoch 20/20\n",
      "200/200 [==============================] - 153s 763ms/step - loss: 0.5243 - acc: 0.8158\n"
     ]
    },
    {
     "data": {
      "text/plain": [
       "<keras.callbacks.History at 0x17030cbaeb8>"
      ]
     },
     "execution_count": 32,
     "metadata": {},
     "output_type": "execute_result"
    }
   ],
   "source": [
    "# fits the model on batches with real-time data augmentation:\n",
    "model.fit_generator(datagen.flow(X_train, Y_train, batch_size=32),\n",
    "                    steps_per_epoch=200, epochs=20)\n"
   ]
  },
  {
   "cell_type": "code",
   "execution_count": 36,
   "metadata": {},
   "outputs": [
    {
     "name": "stdout",
     "output_type": "stream",
     "text": [
      "10000/10000 [==============================] - 386s 39ms/step\n"
     ]
    }
   ],
   "source": [
    "result=model.evaluate(X_test,Y_test)"
   ]
  },
  {
   "cell_type": "code",
   "execution_count": 37,
   "metadata": {},
   "outputs": [
    {
     "name": "stdout",
     "output_type": "stream",
     "text": [
      " accuracy on test data is: 0.826\n"
     ]
    }
   ],
   "source": [
    "print(\" accuracy on test data is: \"+ str(result[1]))"
   ]
  },
  {
   "cell_type": "code",
   "execution_count": null,
   "metadata": {
    "collapsed": true
   },
   "outputs": [],
   "source": []
  }
 ],
 "metadata": {
  "colab": {
   "collapsed_sections": [],
   "name": "anly590_hw2.ipynb",
   "provenance": [],
   "version": "0.3.2"
  },
  "kernelspec": {
   "display_name": "Python 3",
   "language": "python",
   "name": "python3"
  },
  "language_info": {
   "codemirror_mode": {
    "name": "ipython",
    "version": 3
   },
   "file_extension": ".py",
   "mimetype": "text/x-python",
   "name": "python",
   "nbconvert_exporter": "python",
   "pygments_lexer": "ipython3",
   "version": "3.6.2"
  }
 },
 "nbformat": 4,
 "nbformat_minor": 1
}
